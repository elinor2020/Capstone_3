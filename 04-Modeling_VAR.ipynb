{
 "cells": [
  {
   "cell_type": "markdown",
   "id": "623f669e",
   "metadata": {},
   "source": [
    "### Modeling - Vector Autoregressive (VAR) model\n",
    "Company: Bharat Petroleum Corporation Ltd.,ENERGY,BPCL,EQ,INE029A01011 The VWAP (Volume Weighted Average Price) \n",
    "is the target variable to predict. VWAP is a trading benchmark used by traders that gives the average price the \n",
    "stock has traded at throughout the day, based on both volume and price. \n",
    "References: 1. https://towardsdatascience.com/multivariate-time-series-forecasting-456ace675971\n",
    "2. https://www.machinelearningplus.com/vector-autoregression-examples-python/"
   ]
  },
  {
   "cell_type": "code",
   "execution_count": 1,
   "id": "74c99d18",
   "metadata": {},
   "outputs": [],
   "source": [
    "import pandas as pd\n",
    "import statsmodels.api as sm\n",
    "from statsmodels.tsa.api import VAR\n",
    "\n",
    "df = pd.read_csv('stock_market.csv')\n",
    "df.drop(['Time.1'], axis = 1, inplace=True)\n",
    "df.drop(['Deliverable Volume'], axis = 1, inplace=True)\n",
    "df.set_index('Time', inplace=True, drop=True)"
   ]
  },
  {
   "cell_type": "code",
   "execution_count": 2,
   "id": "293cfd64",
   "metadata": {},
   "outputs": [
    {
     "data": {
      "text/html": [
       "<div>\n",
       "<style scoped>\n",
       "    .dataframe tbody tr th:only-of-type {\n",
       "        vertical-align: middle;\n",
       "    }\n",
       "\n",
       "    .dataframe tbody tr th {\n",
       "        vertical-align: top;\n",
       "    }\n",
       "\n",
       "    .dataframe thead th {\n",
       "        text-align: right;\n",
       "    }\n",
       "</style>\n",
       "<table border=\"1\" class=\"dataframe\">\n",
       "  <thead>\n",
       "    <tr style=\"text-align: right;\">\n",
       "      <th></th>\n",
       "      <th>Prev Close</th>\n",
       "      <th>Open</th>\n",
       "      <th>High</th>\n",
       "      <th>Low</th>\n",
       "      <th>Last</th>\n",
       "      <th>Close</th>\n",
       "      <th>VWAP</th>\n",
       "      <th>Volume</th>\n",
       "      <th>Turnover</th>\n",
       "    </tr>\n",
       "    <tr>\n",
       "      <th>Time</th>\n",
       "      <th></th>\n",
       "      <th></th>\n",
       "      <th></th>\n",
       "      <th></th>\n",
       "      <th></th>\n",
       "      <th></th>\n",
       "      <th></th>\n",
       "      <th></th>\n",
       "      <th></th>\n",
       "    </tr>\n",
       "  </thead>\n",
       "  <tbody>\n",
       "    <tr>\n",
       "      <th>2000-01-03</th>\n",
       "      <td>381.20</td>\n",
       "      <td>405.00</td>\n",
       "      <td>407.00</td>\n",
       "      <td>393.05</td>\n",
       "      <td>397.75</td>\n",
       "      <td>399.25</td>\n",
       "      <td>399.32</td>\n",
       "      <td>8720</td>\n",
       "      <td>3.482029e+11</td>\n",
       "    </tr>\n",
       "    <tr>\n",
       "      <th>2000-01-04</th>\n",
       "      <td>399.25</td>\n",
       "      <td>397.75</td>\n",
       "      <td>397.75</td>\n",
       "      <td>367.40</td>\n",
       "      <td>377.45</td>\n",
       "      <td>370.50</td>\n",
       "      <td>375.71</td>\n",
       "      <td>22820</td>\n",
       "      <td>8.573699e+11</td>\n",
       "    </tr>\n",
       "  </tbody>\n",
       "</table>\n",
       "</div>"
      ],
      "text/plain": [
       "            Prev Close    Open    High     Low    Last   Close    VWAP  \\\n",
       "Time                                                                     \n",
       "2000-01-03      381.20  405.00  407.00  393.05  397.75  399.25  399.32   \n",
       "2000-01-04      399.25  397.75  397.75  367.40  377.45  370.50  375.71   \n",
       "\n",
       "            Volume      Turnover  \n",
       "Time                              \n",
       "2000-01-03    8720  3.482029e+11  \n",
       "2000-01-04   22820  8.573699e+11  "
      ]
     },
     "execution_count": 2,
     "metadata": {},
     "output_type": "execute_result"
    }
   ],
   "source": [
    "df.head(2)"
   ]
  },
  {
   "cell_type": "code",
   "execution_count": 2,
   "id": "282fd7a3",
   "metadata": {},
   "outputs": [
    {
     "data": {
      "text/html": [
       "<div>\n",
       "<style scoped>\n",
       "    .dataframe tbody tr th:only-of-type {\n",
       "        vertical-align: middle;\n",
       "    }\n",
       "\n",
       "    .dataframe tbody tr th {\n",
       "        vertical-align: top;\n",
       "    }\n",
       "\n",
       "    .dataframe thead th {\n",
       "        text-align: right;\n",
       "    }\n",
       "</style>\n",
       "<table border=\"1\" class=\"dataframe\">\n",
       "  <thead>\n",
       "    <tr style=\"text-align: right;\">\n",
       "      <th></th>\n",
       "      <th>Prev Close</th>\n",
       "      <th>Open</th>\n",
       "      <th>High</th>\n",
       "      <th>Low</th>\n",
       "      <th>Last</th>\n",
       "      <th>Close</th>\n",
       "      <th>VWAP</th>\n",
       "      <th>Volume</th>\n",
       "      <th>Turnover</th>\n",
       "    </tr>\n",
       "    <tr>\n",
       "      <th>Time</th>\n",
       "      <th></th>\n",
       "      <th></th>\n",
       "      <th></th>\n",
       "      <th></th>\n",
       "      <th></th>\n",
       "      <th></th>\n",
       "      <th></th>\n",
       "      <th></th>\n",
       "      <th></th>\n",
       "    </tr>\n",
       "  </thead>\n",
       "  <tbody>\n",
       "    <tr>\n",
       "      <th>2000-01-03</th>\n",
       "      <td>381.20</td>\n",
       "      <td>405.00</td>\n",
       "      <td>407.00</td>\n",
       "      <td>393.05</td>\n",
       "      <td>397.75</td>\n",
       "      <td>399.25</td>\n",
       "      <td>399.32</td>\n",
       "      <td>8720</td>\n",
       "      <td>3.482029e+11</td>\n",
       "    </tr>\n",
       "    <tr>\n",
       "      <th>2000-01-04</th>\n",
       "      <td>399.25</td>\n",
       "      <td>397.75</td>\n",
       "      <td>397.75</td>\n",
       "      <td>367.40</td>\n",
       "      <td>377.45</td>\n",
       "      <td>370.50</td>\n",
       "      <td>375.71</td>\n",
       "      <td>22820</td>\n",
       "      <td>8.573699e+11</td>\n",
       "    </tr>\n",
       "  </tbody>\n",
       "</table>\n",
       "</div>"
      ],
      "text/plain": [
       "            Prev Close    Open    High     Low    Last   Close    VWAP  \\\n",
       "Time                                                                     \n",
       "2000-01-03      381.20  405.00  407.00  393.05  397.75  399.25  399.32   \n",
       "2000-01-04      399.25  397.75  397.75  367.40  377.45  370.50  375.71   \n",
       "\n",
       "            Volume      Turnover  \n",
       "Time                              \n",
       "2000-01-03    8720  3.482029e+11  \n",
       "2000-01-04   22820  8.573699e+11  "
      ]
     },
     "execution_count": 2,
     "metadata": {},
     "output_type": "execute_result"
    }
   ],
   "source": [
    "data1 = df[['Prev Close', 'Open', 'High', 'Low', 'Last', 'Close', 'VWAP', 'Volume', 'Turnover']]\n",
    "data1.head(2)"
   ]
  },
  {
   "cell_type": "code",
   "execution_count": 3,
   "id": "47425666",
   "metadata": {},
   "outputs": [
    {
     "data": {
      "text/plain": [
       "<AxesSubplot:xlabel='Time'>"
      ]
     },
     "execution_count": 3,
     "metadata": {},
     "output_type": "execute_result"
    },
    {
     "data": {
      "image/png": "[encoded data removed]",
      "text/plain": [
       "<Figure size 576x360 with 1 Axes>"
      ]
     },
     "metadata": {
      "needs_background": "light"
     },
     "output_type": "display_data"
    }
   ],
   "source": [
    "data1['VWAP'].plot(figsize = (8,5))"
   ]
  },
  {
   "cell_type": "markdown",
   "id": "c9825b12",
   "metadata": {},
   "source": [
    "The series shows an increasing trend over time with slight ups and downs. Stationary: Before applying a VAR model to the data, the time series features should be stationary. The series are not stationary since both the series do not show constant mean and variance over time."
   ]
  },
  {
   "cell_type": "code",
   "execution_count": 5,
   "id": "9d569954",
   "metadata": {},
   "outputs": [
    {
     "name": "stdout",
     "output_type": "stream",
     "text": [
      "ADF test statistic: -2.9260780420523194\n",
      "p-value: 0.042398433754513964\n"
     ]
    }
   ],
   "source": [
    "from statsmodels.tsa.stattools import adfuller\n",
    "adfuller_test = adfuller(data1['VWAP'], autolag= \"AIC\")\n",
    "print(\"ADF test statistic: {}\".format(adfuller_test[0]))\n",
    "print(\"p-value: {}\".format(adfuller_test[1]))"
   ]
  },
  {
   "cell_type": "code",
   "execution_count": 6,
   "id": "e4db5705",
   "metadata": {},
   "outputs": [
    {
     "name": "stdout",
     "output_type": "stream",
     "text": [
      "ADF test statistic: -2.9565223332373485\n",
      "p-value: 0.03915901585104901\n"
     ]
    }
   ],
   "source": [
    "from statsmodels.tsa.stattools import adfuller\n",
    "adfuller_test = adfuller(data1['Prev Close'], autolag= \"AIC\")\n",
    "print(\"ADF test statistic: {}\".format(adfuller_test[0]))\n",
    "print(\"p-value: {}\".format(adfuller_test[1]))"
   ]
  },
  {
   "cell_type": "markdown",
   "id": "f3094846",
   "metadata": {},
   "source": [
    "### Stationary Time Series: Augmented Dickey-Fuller test (ADF)\n",
    "A smaller p-value should try to be achieved. So, perform differencing to get a smaller p-value.\n",
    "First, the data is standardized with MinMaxScaler."
   ]
  },
  {
   "cell_type": "code",
   "execution_count": 4,
   "id": "0310562d",
   "metadata": {},
   "outputs": [],
   "source": [
    "from sklearn.preprocessing import MinMaxScaler\n",
    "\n",
    "# normalize the dataset\n",
    "scaler = MinMaxScaler(feature_range=(0, 1))\n",
    "dataset = scaler.fit_transform(data1)\n",
    "data = pd.DataFrame(dataset, index = data1.index, columns=data1.columns)"
   ]
  },
  {
   "cell_type": "code",
   "execution_count": 5,
   "id": "08d1a5fb",
   "metadata": {},
   "outputs": [],
   "source": [
    "data_diff = data.diff().dropna()"
   ]
  },
  {
   "cell_type": "code",
   "execution_count": 6,
   "id": "df8c6e12",
   "metadata": {},
   "outputs": [
    {
     "name": "stdout",
     "output_type": "stream",
     "text": [
      "ADF test statistic: -51.24286133664201\n",
      "p-value: 0.0\n"
     ]
    }
   ],
   "source": [
    "from statsmodels.tsa.stattools import adfuller\n",
    "adfuller_test = adfuller(data_diff['VWAP'], autolag= \"AIC\")\n",
    "print(\"ADF test statistic: {}\".format(adfuller_test[0]))\n",
    "print(\"p-value: {}\".format(adfuller_test[1]))"
   ]
  },
  {
   "cell_type": "code",
   "execution_count": 7,
   "id": "8b401ce2",
   "metadata": {},
   "outputs": [
    {
     "name": "stdout",
     "output_type": "stream",
     "text": [
      "ADF test statistic: -72.940478744401\n",
      "p-value: 0.0\n"
     ]
    }
   ],
   "source": [
    "from statsmodels.tsa.stattools import adfuller\n",
    "adfuller_test = adfuller(data_diff['Prev Close'], autolag= \"AIC\")\n",
    "print(\"ADF test statistic: {}\".format(adfuller_test[0]))\n",
    "print(\"p-value: {}\".format(adfuller_test[1]))"
   ]
  },
  {
   "cell_type": "markdown",
   "id": "0b8c5e68",
   "metadata": {},
   "source": [
    "## Modeling for VAR"
   ]
  },
  {
   "cell_type": "markdown",
   "id": "cf7da560",
   "metadata": {},
   "source": [
    "We carry-out the train-test split of the data and keep the last 10-days as test data."
   ]
  },
  {
   "cell_type": "code",
   "execution_count": 8,
   "id": "16db713e",
   "metadata": {},
   "outputs": [],
   "source": [
    "train = data[['VWAP', 'Prev Close']].iloc[:-10,:]\n",
    "test = data[['VWAP', 'Prev Close']].iloc[-10:,:]\n",
    "\n",
    "df_diff_train = data_diff[['VWAP', 'Prev Close']].iloc[:-10,:]\n",
    "df_diff_test = data_diff[['VWAP', 'Prev Close']].iloc[-10:,:]"
   ]
  },
  {
   "cell_type": "markdown",
   "id": "cace3bc9",
   "metadata": {},
   "source": [
    "#### Searching optimal order of VAR model\n",
    "Hypertuning the order of the model VAR"
   ]
  },
  {
   "cell_type": "code",
   "execution_count": 9,
   "id": "4a9e4b76",
   "metadata": {},
   "outputs": [
    {
     "name": "stderr",
     "output_type": "stream",
     "text": [
      "/Library/Frameworks/Python.framework/Versions/3.8/lib/python3.8/site-packages/statsmodels/tsa/base/tsa_model.py:581: ValueWarning: A date index has been provided, but it has no associated frequency information and so will be ignored when e.g. forecasting.\n",
      "  warnings.warn('A date index has been provided, but it has no'\n",
      "/Library/Frameworks/Python.framework/Versions/3.8/lib/python3.8/site-packages/statsmodels/tsa/base/tsa_model.py:581: ValueWarning: A date index has been provided, but it has no associated frequency information and so will be ignored when e.g. forecasting.\n",
      "  warnings.warn('A date index has been provided, but it has no'\n"
     ]
    }
   ],
   "source": [
    "forecasting_model = VAR(train)\n",
    "results_aic = []\n",
    "for p in range(1,10): # order of the model\n",
    "  results = forecasting_model.fit(p)\n",
    "  results_aic.append(results.aic)\n",
    "\n",
    "# Using the differenced data:\n",
    "forecasting_model_diff = VAR(df_diff_train)\n",
    "results_aic_diff = []\n",
    "for p in range(1,10): # order of the model\n",
    "  results_diff = forecasting_model_diff.fit(p)\n",
    "  results_aic_diff.append(results_diff.aic)"
   ]
  },
  {
   "cell_type": "code",
   "execution_count": 10,
   "id": "f88953f5",
   "metadata": {},
   "outputs": [
    {
     "data": {
      "image/png": "[encoded data removed]",
      "text/plain": [
       "<Figure size 432x288 with 1 Axes>"
      ]
     },
     "metadata": {},
     "output_type": "display_data"
    },
    {
     "data": {
      "image/png": "[encoded data removed]",
      "text/plain": [
       "<Figure size 432x288 with 1 Axes>"
      ]
     },
     "metadata": {},
     "output_type": "display_data"
    }
   ],
   "source": [
    "import matplotlib.pyplot as plt\n",
    "import seaborn as sns\n",
    "import numpy as np\n",
    "\n",
    "sns.set()\n",
    "plt.plot(list(np.arange(1,10,1)), results_aic)\n",
    "plt.xlabel(\"Order\")\n",
    "plt.ylabel(\"AIC\")\n",
    "plt.show()\n",
    "\n",
    "sns.set()\n",
    "plt.plot(list(np.arange(1,10,1)), results_aic_diff)\n",
    "plt.xlabel(\"Order\")\n",
    "plt.ylabel(\"AIC of the Difference\")\n",
    "plt.show()"
   ]
  },
  {
   "cell_type": "code",
   "execution_count": 11,
   "id": "53d25041",
   "metadata": {},
   "outputs": [
    {
     "data": {
      "text/plain": [
       "  Summary of Regression Results   \n",
       "==================================\n",
       "Model:                         VAR\n",
       "Method:                        OLS\n",
       "Date:           Thu, 17, Jun, 2021\n",
       "Time:                     16:29:43\n",
       "--------------------------------------------------------------------\n",
       "No. of Equations:         2.00000    BIC:                   -19.5402\n",
       "Nobs:                     5291.00    HQIC:                  -19.5548\n",
       "Log likelihood:           36755.6    FPE:                3.19207e-09\n",
       "AIC:                     -19.5626    Det(Omega_mle):     3.18123e-09\n",
       "--------------------------------------------------------------------\n",
       "Results for equation VWAP\n",
       "================================================================================\n",
       "                   coefficient       std. error           t-stat            prob\n",
       "--------------------------------------------------------------------------------\n",
       "const                 0.000005         0.000190            0.027           0.978\n",
       "L1.VWAP               0.078906         0.014404            5.478           0.000\n",
       "L1.Prev Close        -0.106802         0.045011           -2.373           0.018\n",
       "L2.VWAP               0.083747         0.048952            1.711           0.087\n",
       "L2.Prev Close        -0.103211         0.055465           -1.861           0.063\n",
       "L3.VWAP               0.091590         0.056376            1.625           0.104\n",
       "L3.Prev Close        -0.115257         0.048678           -2.368           0.018\n",
       "L4.VWAP               0.104835         0.047400            2.212           0.027\n",
       "L4.Prev Close        -0.013981         0.014716           -0.950           0.342\n",
       "================================================================================\n",
       "\n",
       "Results for equation Prev Close\n",
       "================================================================================\n",
       "                   coefficient       std. error           t-stat            prob\n",
       "--------------------------------------------------------------------------------\n",
       "const                 0.000001         0.000059            0.011           0.991\n",
       "L1.VWAP               1.055237         0.004451          237.089           0.000\n",
       "L1.Prev Close        -0.893971         0.013909          -64.275           0.000\n",
       "L2.VWAP               0.845021         0.015126           55.864           0.000\n",
       "L2.Prev Close        -0.612153         0.017139          -35.717           0.000\n",
       "L3.VWAP               0.563994         0.017420           32.375           0.000\n",
       "L3.Prev Close        -0.323279         0.015042          -21.492           0.000\n",
       "L4.VWAP               0.288607         0.014647           19.704           0.000\n",
       "L4.Prev Close        -0.041104         0.004547           -9.039           0.000\n",
       "================================================================================\n",
       "\n",
       "Correlation matrix of residuals\n",
       "                  VWAP  Prev Close\n",
       "VWAP          1.000000    0.299745\n",
       "Prev Close    0.299745    1.000000\n",
       "\n"
      ]
     },
     "execution_count": 11,
     "metadata": {},
     "output_type": "execute_result"
    }
   ],
   "source": [
    "results = forecasting_model.fit(5)\n",
    "results.summary()\n",
    "\n",
    "results_diff = forecasting_model_diff.fit(4)\n",
    "results_diff.summary()"
   ]
  },
  {
   "cell_type": "markdown",
   "id": "736ada9a",
   "metadata": {},
   "source": [
    "### Forecasting"
   ]
  },
  {
   "cell_type": "markdown",
   "id": "55d69c75",
   "metadata": {},
   "source": [
    "Use 5 as the optimal order in fitting the VAR model. Thus, we take the final 10 steps in the training data for \n",
    "forecasting the immediate next step (i.e., the first day of the test data)."
   ]
  },
  {
   "cell_type": "code",
   "execution_count": 12,
   "id": "e81e31e5",
   "metadata": {},
   "outputs": [
    {
     "data": {
      "text/html": [
       "<div>\n",
       "<style scoped>\n",
       "    .dataframe tbody tr th:only-of-type {\n",
       "        vertical-align: middle;\n",
       "    }\n",
       "\n",
       "    .dataframe tbody tr th {\n",
       "        vertical-align: top;\n",
       "    }\n",
       "\n",
       "    .dataframe thead th {\n",
       "        text-align: right;\n",
       "    }\n",
       "</style>\n",
       "<table border=\"1\" class=\"dataframe\">\n",
       "  <thead>\n",
       "    <tr style=\"text-align: right;\">\n",
       "      <th></th>\n",
       "      <th>VWAP_1d</th>\n",
       "      <th>Prev Close_1d</th>\n",
       "    </tr>\n",
       "    <tr>\n",
       "      <th>Time</th>\n",
       "      <th></th>\n",
       "      <th></th>\n",
       "    </tr>\n",
       "  </thead>\n",
       "  <tbody>\n",
       "    <tr>\n",
       "      <th>2021-04-16</th>\n",
       "      <td>-2.884165e-04</td>\n",
       "      <td>-0.004990</td>\n",
       "    </tr>\n",
       "    <tr>\n",
       "      <th>2021-04-19</th>\n",
       "      <td>3.154114e-04</td>\n",
       "      <td>0.000400</td>\n",
       "    </tr>\n",
       "    <tr>\n",
       "      <th>2021-04-20</th>\n",
       "      <td>-8.277668e-05</td>\n",
       "      <td>0.000467</td>\n",
       "    </tr>\n",
       "    <tr>\n",
       "      <th>2021-04-22</th>\n",
       "      <td>1.395389e-04</td>\n",
       "      <td>0.000010</td>\n",
       "    </tr>\n",
       "    <tr>\n",
       "      <th>2021-04-23</th>\n",
       "      <td>-1.772660e-05</td>\n",
       "      <td>-0.000046</td>\n",
       "    </tr>\n",
       "    <tr>\n",
       "      <th>2021-04-26</th>\n",
       "      <td>-1.455437e-05</td>\n",
       "      <td>0.000012</td>\n",
       "    </tr>\n",
       "    <tr>\n",
       "      <th>2021-04-27</th>\n",
       "      <td>2.447981e-06</td>\n",
       "      <td>0.000020</td>\n",
       "    </tr>\n",
       "    <tr>\n",
       "      <th>2021-04-28</th>\n",
       "      <td>1.889647e-05</td>\n",
       "      <td>0.000010</td>\n",
       "    </tr>\n",
       "    <tr>\n",
       "      <th>2021-04-29</th>\n",
       "      <td>-2.817570e-07</td>\n",
       "      <td>-0.000014</td>\n",
       "    </tr>\n",
       "    <tr>\n",
       "      <th>2021-04-30</th>\n",
       "      <td>3.371678e-06</td>\n",
       "      <td>0.000013</td>\n",
       "    </tr>\n",
       "  </tbody>\n",
       "</table>\n",
       "</div>"
      ],
      "text/plain": [
       "                 VWAP_1d  Prev Close_1d\n",
       "Time                                   \n",
       "2021-04-16 -2.884165e-04      -0.004990\n",
       "2021-04-19  3.154114e-04       0.000400\n",
       "2021-04-20 -8.277668e-05       0.000467\n",
       "2021-04-22  1.395389e-04       0.000010\n",
       "2021-04-23 -1.772660e-05      -0.000046\n",
       "2021-04-26 -1.455437e-05       0.000012\n",
       "2021-04-27  2.447981e-06       0.000020\n",
       "2021-04-28  1.889647e-05       0.000010\n",
       "2021-04-29 -2.817570e-07      -0.000014\n",
       "2021-04-30  3.371678e-06       0.000013"
      ]
     },
     "execution_count": 12,
     "metadata": {},
     "output_type": "execute_result"
    }
   ],
   "source": [
    "lagged_values = train.values[-5:]\n",
    "forecast_1D = pd.DataFrame(results.forecast(y= lagged_values, steps=10), index = test.index, columns= ['VWAP_1d', 'Prev Close_1d'])\n",
    "forecast_1D\n",
    "\n",
    "lagged_values_diff = df_diff_train.values[-4:] # Use order = 4 for diff values\n",
    "forecast_1D_diff = pd.DataFrame(results_diff.forecast(y= lagged_values_diff, steps=10), index = df_diff_test.index, columns= ['VWAP_1d', 'Prev Close_1d'])\n",
    "forecast_1D_diff"
   ]
  },
  {
   "cell_type": "markdown",
   "id": "82f0dcb5",
   "metadata": {},
   "source": [
    "The forecasts are for the one differenced model: we must reverse the first differenced forecasts into the original \n",
    "forecast values."
   ]
  },
  {
   "cell_type": "markdown",
   "id": "0d84b28e",
   "metadata": {},
   "source": [
    "#### Forecasted\n",
    "The first two columns are the forecasted values for 1 differenced series and the last two columns show the \n",
    "forecasted values for the original series."
   ]
  },
  {
   "cell_type": "code",
   "execution_count": 13,
   "id": "c0a111fe",
   "metadata": {},
   "outputs": [],
   "source": [
    "forecast = pd.DataFrame()\n",
    "forecast[\"VWAP_forecasted\"] = data1[\"VWAP\"].iloc[-10-1] + forecast_1D['VWAP_1d'].cumsum()\n",
    "forecast[\"Prev Close_forecasted\"] = data1[\"Prev Close\"].iloc[-10-1] + forecast_1D['Prev Close_1d'].cumsum()\n",
    "\n",
    "forecast_diff = pd.DataFrame()\n",
    "forecast_diff[\"VWAP_forecasted\"] = df_diff_train[\"VWAP\"].iloc[-10-1] + forecast_1D_diff['VWAP_1d'].cumsum()\n",
    "forecast_diff[\"Prev Close_forecasted\"] = df_diff_train[\"Prev Close\"].iloc[-10-1] + forecast_1D_diff['Prev Close_1d'].cumsum()"
   ]
  },
  {
   "cell_type": "code",
   "execution_count": 14,
   "id": "9b486ccf",
   "metadata": {},
   "outputs": [
    {
     "data": {
      "text/plain": [
       "<AxesSubplot:xlabel='Time'>"
      ]
     },
     "execution_count": 14,
     "metadata": {},
     "output_type": "execute_result"
    },
    {
     "data": {
      "image/png": "[encoded data removed]",
      "text/plain": [
       "<Figure size 432x288 with 1 Axes>"
      ]
     },
     "metadata": {},
     "output_type": "display_data"
    },
    {
     "data": {
      "image/png": "[encoded data removed]",
      "text/plain": [
       "<Figure size 432x288 with 1 Axes>"
      ]
     },
     "metadata": {},
     "output_type": "display_data"
    }
   ],
   "source": [
    "total = pd.DataFrame()\n",
    "total[\"VWAP\"] = data1[\"VWAP\"]\n",
    "total[\"VWAP-Forecasted\"] = forecast[\"VWAP_forecasted\"]\n",
    "total.tail(10).plot()\n",
    "#total.plot(figsize = (8,5))\n",
    "\n",
    "total_diff = pd.DataFrame()\n",
    "total_diff[\"VWAP-Actual\"] = df_diff_test[\"VWAP\"]\n",
    "total_diff[\"VWAP-Forecasted\"] = forecast_diff[\"VWAP_forecasted\"]\n",
    "total_diff.tail(10).plot()\n",
    "#total.plot(figsize = (8,5))"
   ]
  },
  {
   "cell_type": "code",
   "execution_count": 15,
   "id": "f9fa6e17",
   "metadata": {},
   "outputs": [
    {
     "name": "stderr",
     "output_type": "stream",
     "text": [
      "/Library/Frameworks/Python.framework/Versions/3.8/lib/python3.8/site-packages/statsmodels/tsa/base/tsa_model.py:581: ValueWarning: A date index has been provided, but it has no associated frequency information and so will be ignored when e.g. forecasting.\n",
      "  warnings.warn('A date index has been provided, but it has no'\n"
     ]
    },
    {
     "name": "stdout",
     "output_type": "stream",
     "text": [
      "Lag Order = 1\n",
      "AIC :  -158.70215897529118\n",
      "BIC :  -158.5905715907007\n",
      "FPE :  1.192691456608612e-69\n",
      "HQIC:  -158.6631660051805 \n",
      "\n",
      "Lag Order = 2\n",
      "AIC :  -159.8006444650163\n",
      "BIC :  -159.58859453401678\n",
      "FPE :  3.9761432647607783e-70\n",
      "HQIC:  -159.72654526901945 \n",
      "\n",
      "Lag Order = 3\n",
      "AIC :  -159.78019327920305\n",
      "BIC :  -159.46764866858706\n",
      "FPE :  4.058299786465109e-70\n",
      "HQIC:  -159.67097595866855 \n",
      "\n",
      "Lag Order = 4\n",
      "AIC :  -159.8115421843455\n",
      "BIC :  -159.39847074435139\n",
      "FPE :  3.933054559331516e-70\n",
      "HQIC:  -159.66719483431268 \n",
      "\n",
      "Lag Order = 5\n",
      "AIC :  -160.1407624807636\n",
      "BIC :  -159.6271320450637\n",
      "FPE :  2.8297771184030895e-70\n",
      "HQIC:  -159.9612731899582 \n",
      "\n",
      "Lag Order = 6\n",
      "AIC :  -159.27173550545032\n",
      "BIC :  -158.65751389113933\n",
      "FPE :  6.747875492986013e-70\n",
      "HQIC:  -159.05709235627987 \n",
      "\n",
      "Lag Order = 7\n",
      "AIC :  -159.54513541948435\n",
      "BIC :  -158.83029042706772\n",
      "FPE :  5.1337257767718466e-70\n",
      "HQIC:  -159.29532648803368 \n",
      "\n",
      "Lag Order = 8\n",
      "AIC :  -159.27475998155768\n",
      "BIC :  -158.4592593949398\n",
      "FPE :  6.727558064671739e-70\n",
      "HQIC:  -158.98977333758432 \n",
      "\n",
      "Lag Order = 9\n",
      "AIC :  -159.8675935972369\n",
      "BIC :  -158.95140518370945\n",
      "FPE :  3.718741062770001e-70\n",
      "HQIC:  -159.54741730416657 \n",
      "\n",
      "Lag Order = 10\n",
      "AIC :  -157.29669542959877\n",
      "BIC :  -156.27978693982897\n",
      "FPE :  4.863247617108177e-69\n",
      "HQIC:  -156.94131754452087 \n",
      "\n",
      "Lag Order = 11\n",
      "AIC :  -159.4716066209306\n",
      "BIC :  -158.35394578894943\n",
      "FPE :  5.525591697401747e-70\n",
      "HQIC:  -159.0810151945935 \n",
      "\n",
      "Lag Order = 12\n",
      "AIC :  -159.02541190841507\n",
      "BIC :  -157.80696645160558\n",
      "FPE :  8.633042685979822e-70\n",
      "HQIC:  -158.59959498522167 \n",
      "\n",
      "Lag Order = 13\n",
      "AIC :  -158.02178517212613\n",
      "BIC :  -156.70252279121163\n",
      "FPE :  2.3552639034343097e-69\n",
      "HQIC:  -157.5607307901293 \n",
      "\n",
      "Lag Order = 14\n",
      "AIC :  -158.49024845001534\n",
      "BIC :  -157.07013682904775\n",
      "FPE :  1.474333422394667e-69\n",
      "HQIC:  -157.9939446409133 \n",
      "\n",
      "Lag Order = 15\n",
      "AIC :  -156.26210011380311\n",
      "BIC :  -154.74110692015108\n",
      "FPE :  1.3685998411455068e-68\n",
      "HQIC:  -155.73053490293483 \n",
      "\n",
      "Lag Order = 16\n",
      "AIC :  -154.82911920792216\n",
      "BIC :  -153.20721209225928\n",
      "FPE :  5.7361646324550504e-68\n",
      "HQIC:  -154.26228061426286 \n",
      "\n",
      "Lag Order = 17\n",
      "AIC :  -155.0434755109104\n",
      "BIC :  -153.32062210720338\n",
      "FPE :  4.629547286520875e-68\n",
      "HQIC:  -154.44135154706692 \n",
      "\n",
      "Lag Order = 18\n",
      "AIC :  -159.32319343748915\n",
      "BIC :  -157.49936136298615\n",
      "FPE :  6.410511081559592e-70\n",
      "HQIC:  -158.6857721096953 \n",
      "\n",
      "Lag Order = 19\n",
      "AIC :  -159.04341985802432\n",
      "BIC :  -157.11857671324296\n",
      "FPE :  8.48028018497222e-70\n",
      "HQIC:  -158.3706891661365 \n",
      "\n",
      "Lag Order = 20\n",
      "AIC :  -159.2474486037677\n",
      "BIC :  -157.22156197248336\n",
      "FPE :  6.915388148860753e-70\n",
      "HQIC:  -158.53939654125998 \n",
      "\n",
      "Lag Order = 1\n",
      "AIC :  -19.07071618864259\n",
      "BIC :  -19.06326511642938\n",
      "FPE :  5.220272734647631e-09\n",
      "HQIC:  -19.068112245800343 \n",
      "\n",
      "Lag Order = 2\n",
      "AIC :  -19.371150795508374\n",
      "BIC :  -19.35873035252357\n",
      "FPE :  3.865592783873477e-09\n",
      "HQIC:  -19.36681015408948 \n",
      "\n",
      "Lag Order = 3\n",
      "AIC :  -19.490902728363913\n",
      "BIC :  -19.4735113222125\n",
      "FPE :  3.4293238438365026e-09\n",
      "HQIC:  -19.48482479865774 \n",
      "\n",
      "Lag Order = 4\n",
      "AIC :  -19.562597768312035\n",
      "BIC :  -19.540233805777113\n",
      "FPE :  3.192065103448089e-09\n",
      "HQIC:  -19.55478196029468 \n",
      "\n",
      "Lag Order = 5\n",
      "AIC :  -19.594156045763047\n",
      "BIC :  -19.56681793280525\n",
      "FPE :  3.0929019827393336e-09\n",
      "HQIC:  -19.584601769097112 \n",
      "\n",
      "Lag Order = 6\n",
      "AIC :  -19.621699208422168\n",
      "BIC :  -19.589385350179075\n",
      "FPE :  3.0088761842304502e-09\n",
      "HQIC:  -19.610405872456543 \n",
      "\n",
      "Lag Order = 7\n",
      "AIC :  -19.644824726352514\n",
      "BIC :  -19.607533527138077\n",
      "FPE :  2.9400927869115716e-09\n",
      "HQIC:  -19.631791740122136 \n",
      "\n",
      "Lag Order = 8\n",
      "AIC :  -19.66044664036176\n",
      "BIC :  -19.61817650366571\n",
      "FPE :  2.8945198458423086e-09\n",
      "HQIC:  -19.645673412587396 \n",
      "\n",
      "Lag Order = 9\n",
      "AIC :  -19.66894985674931\n",
      "BIC :  -19.62169918523659\n",
      "FPE :  2.8700115154509908e-09\n",
      "HQIC:  -19.652435795837338 \n",
      "\n"
     ]
    },
    {
     "name": "stderr",
     "output_type": "stream",
     "text": [
      "/Library/Frameworks/Python.framework/Versions/3.8/lib/python3.8/site-packages/statsmodels/tsa/base/tsa_model.py:581: ValueWarning: A date index has been provided, but it has no associated frequency information and so will be ignored when e.g. forecasting.\n",
      "  warnings.warn('A date index has been provided, but it has no'\n"
     ]
    },
    {
     "name": "stdout",
     "output_type": "stream",
     "text": [
      "Lag Order = 10\n",
      "AIC :  -19.678062468492637\n",
      "BIC :  -19.6258296640028\n",
      "FPE :  2.843977077915221e-09\n",
      "HQIC:  -19.659806982534796 \n",
      "\n",
      "Lag Order = 11\n",
      "AIC :  -19.679610700186345\n",
      "BIC :  -19.622394163732988\n",
      "FPE :  2.839577423957823e-09\n",
      "HQIC:  -19.659613196959533 \n",
      "\n",
      "Lag Order = 12\n",
      "AIC :  -19.687067760160033\n",
      "BIC :  -19.6248658919302\n",
      "FPE :  2.81848136848169e-09\n",
      "HQIC:  -19.66532764712607 \n",
      "\n",
      "Lag Order = 13\n",
      "AIC :  -19.6877002033875\n",
      "BIC :  -19.6205114027411\n",
      "FPE :  2.8166995062305728e-09\n",
      "HQIC:  -19.664216887692895 \n",
      "\n",
      "Lag Order = 14\n",
      "AIC :  -19.690079196997267\n",
      "BIC :  -19.617901862466496\n",
      "FPE :  2.8100066805017727e-09\n",
      "HQIC:  -19.664852085473004 \n",
      "\n",
      "Lag Order = 15\n",
      "AIC :  -19.694259278729852\n",
      "BIC :  -19.6170918080186\n",
      "FPE :  2.798285275758423e-09\n",
      "HQIC:  -19.66728777789115 \n",
      "\n",
      "Lag Order = 16\n",
      "AIC :  -19.69889919535582\n",
      "BIC :  -19.61673998533908\n",
      "FPE :  2.785331696331793e-09\n",
      "HQIC:  -19.67018271140191 \n",
      "\n",
      "Lag Order = 17\n",
      "AIC :  -19.7016209040219\n",
      "BIC :  -19.6144683507452\n",
      "FPE :  2.777761317299767e-09\n",
      "HQIC:  -19.671158842835798 \n",
      "\n",
      "Lag Order = 18\n",
      "AIC :  -19.704516027442285\n",
      "BIC :  -19.612368526121077\n",
      "FPE :  2.769731181556477e-09\n",
      "HQIC:  -19.672307794590566 \n",
      "\n",
      "Lag Order = 19\n",
      "AIC :  -19.704909616894284\n",
      "BIC :  -19.60776556191337\n",
      "FPE :  2.768641477644665e-09\n",
      "HQIC:  -19.67095461762684 \n",
      "\n",
      "Lag Order = 20\n",
      "AIC :  -19.705835517916977\n",
      "BIC :  -19.60369330282992\n",
      "FPE :  2.7660794181990644e-09\n",
      "HQIC:  -19.670133157166813 \n",
      "\n"
     ]
    }
   ],
   "source": [
    "df_diff = data.diff().dropna()\n",
    "\n",
    "model = VAR(df_diff)\n",
    "for i in [1,2,3,4,5,6,7,8,9,10,11,12,13,14,15,16,17,18,19,20]:\n",
    "    result = model.fit(i)\n",
    "    print('Lag Order =', i)\n",
    "    print('AIC : ', result.aic)\n",
    "    print('BIC : ', result.bic)\n",
    "    print('FPE : ', result.fpe)\n",
    "    print('HQIC: ', result.hqic, '\\n')\n",
    "\n",
    "model_diff = VAR(df_diff_train)\n",
    "for i in [1,2,3,4,5,6,7,8,9,10,11,12,13,14,15,16,17,18,19,20]:\n",
    "    result_diff = model_diff.fit(i)\n",
    "    print('Lag Order =', i)\n",
    "    print('AIC : ', result_diff.aic)\n",
    "    print('BIC : ', result_diff.bic)\n",
    "    print('FPE : ', result_diff.fpe)\n",
    "    print('HQIC: ', result_diff.hqic, '\\n')"
   ]
  },
  {
   "cell_type": "code",
   "execution_count": 16,
   "id": "bd791714",
   "metadata": {},
   "outputs": [
    {
     "data": {
      "text/html": [
       "<table class=\"simpletable\">\n",
       "<caption>VAR Order Selection (* highlights the minimums)</caption>\n",
       "<tr>\n",
       "   <td></td>      <th>AIC</th>         <th>BIC</th>         <th>FPE</th>        <th>HQIC</th>    \n",
       "</tr>\n",
       "<tr>\n",
       "  <th>0</th>  <td>    -17.03</td>  <td>    -17.03</td>  <td> 4.008e-08</td>  <td>    -17.03</td> \n",
       "</tr>\n",
       "<tr>\n",
       "  <th>1</th>  <td>    -19.07</td>  <td>    -19.06</td>  <td> 5.245e-09</td>  <td>    -19.06</td> \n",
       "</tr>\n",
       "<tr>\n",
       "  <th>2</th>  <td>    -19.37</td>  <td>    -19.35</td>  <td> 3.883e-09</td>  <td>    -19.36</td> \n",
       "</tr>\n",
       "<tr>\n",
       "  <th>3</th>  <td>    -19.49</td>  <td>    -19.47</td>  <td> 3.444e-09</td>  <td>    -19.48</td> \n",
       "</tr>\n",
       "<tr>\n",
       "  <th>4</th>  <td>    -19.56</td>  <td>    -19.54</td>  <td> 3.205e-09</td>  <td>    -19.55</td> \n",
       "</tr>\n",
       "<tr>\n",
       "  <th>5</th>  <td>    -19.59</td>  <td>    -19.56</td>  <td> 3.105e-09</td>  <td>    -19.58</td> \n",
       "</tr>\n",
       "<tr>\n",
       "  <th>6</th>  <td>    -19.62</td>  <td>    -19.59</td>  <td> 3.020e-09</td>  <td>    -19.61</td> \n",
       "</tr>\n",
       "<tr>\n",
       "  <th>7</th>  <td>    -19.64</td>  <td>    -19.60</td>  <td> 2.950e-09</td>  <td>    -19.63</td> \n",
       "</tr>\n",
       "<tr>\n",
       "  <th>8</th>  <td>    -19.66</td>  <td>    -19.62</td>  <td> 2.903e-09</td>  <td>    -19.64</td> \n",
       "</tr>\n",
       "<tr>\n",
       "  <th>9</th>  <td>    -19.67</td>  <td>    -19.62</td>  <td> 2.878e-09</td>  <td>    -19.65</td> \n",
       "</tr>\n",
       "<tr>\n",
       "  <th>10</th> <td>    -19.68</td>  <td>    -19.62*</td> <td> 2.851e-09</td>  <td>    -19.66</td> \n",
       "</tr>\n",
       "<tr>\n",
       "  <th>11</th> <td>    -19.68</td>  <td>    -19.62</td>  <td> 2.846e-09</td>  <td>    -19.66</td> \n",
       "</tr>\n",
       "<tr>\n",
       "  <th>12</th> <td>    -19.69</td>  <td>    -19.62</td>  <td> 2.824e-09</td>  <td>    -19.66</td> \n",
       "</tr>\n",
       "<tr>\n",
       "  <th>13</th> <td>    -19.69</td>  <td>    -19.62</td>  <td> 2.821e-09</td>  <td>    -19.66</td> \n",
       "</tr>\n",
       "<tr>\n",
       "  <th>14</th> <td>    -19.69</td>  <td>    -19.62</td>  <td> 2.814e-09</td>  <td>    -19.66</td> \n",
       "</tr>\n",
       "<tr>\n",
       "  <th>15</th> <td>    -19.69</td>  <td>    -19.62</td>  <td> 2.801e-09</td>  <td>    -19.67</td> \n",
       "</tr>\n",
       "<tr>\n",
       "  <th>16</th> <td>    -19.70</td>  <td>    -19.62</td>  <td> 2.788e-09</td>  <td>    -19.67</td> \n",
       "</tr>\n",
       "<tr>\n",
       "  <th>17</th> <td>    -19.70</td>  <td>    -19.61</td>  <td> 2.780e-09</td>  <td>    -19.67</td> \n",
       "</tr>\n",
       "<tr>\n",
       "  <th>18</th> <td>    -19.70</td>  <td>    -19.61</td>  <td> 2.771e-09</td>  <td>    -19.67*</td>\n",
       "</tr>\n",
       "<tr>\n",
       "  <th>19</th> <td>    -19.70</td>  <td>    -19.61</td>  <td> 2.770e-09</td>  <td>    -19.67</td> \n",
       "</tr>\n",
       "<tr>\n",
       "  <th>20</th> <td>    -19.71*</td> <td>    -19.60</td>  <td> 2.766e-09*</td> <td>    -19.67</td> \n",
       "</tr>\n",
       "</table>"
      ],
      "text/plain": [
       "<class 'statsmodels.iolib.table.SimpleTable'>"
      ]
     },
     "execution_count": 16,
     "metadata": {},
     "output_type": "execute_result"
    }
   ],
   "source": [
    "x = model.select_order(maxlags=20)\n",
    "x.summary()\n",
    "\n",
    "x_diff = model_diff.select_order(maxlags=20)\n",
    "x_diff.summary()"
   ]
  },
  {
   "cell_type": "markdown",
   "id": "08b6690e",
   "metadata": {},
   "source": [
    "The selected order(p) is the order that gives the lowest ‘AIC’, ‘BIC’, ‘FPE’ and ‘HQIC’ scores."
   ]
  },
  {
   "cell_type": "markdown",
   "id": "66b7aeeb",
   "metadata": {},
   "source": [
    "### Observe that lag = 5 is the optimal order."
   ]
  },
  {
   "cell_type": "code",
   "execution_count": 17,
   "id": "1880253f",
   "metadata": {},
   "outputs": [
    {
     "name": "stdout",
     "output_type": "stream",
     "text": [
      "              VWAP_x  Prev Close_x\n",
      "VWAP_y           1.0           0.0\n",
      "Prev Close_y     0.0           1.0\n"
     ]
    }
   ],
   "source": [
    "from statsmodels.tsa.stattools import grangercausalitytests\n",
    "maxlag=12 #lag_order \n",
    "test = 'ssr_chi2test'\n",
    "def grangers_causation_matrix(data, variables, test='ssr_chi2test', verbose=False):    \n",
    "    \"\"\"Check Granger Causality of all possible combinations of the Time series.\n",
    "    The rows are the response variable, columns are predictors. The values in the table \n",
    "    are the P-Values. P-Values lesser than the significance level (0.05), implies \n",
    "    the Null Hypothesis that the coefficients of the corresponding past values is \n",
    "    zero, that is, the X does not cause Y can be rejected.\n",
    "\n",
    "    data      : pandas dataframe containing the time series variables\n",
    "    variables : list containing names of the time series variables.\n",
    "    \"\"\"\n",
    "    df = pd.DataFrame(np.zeros((len(variables), len(variables))), columns=variables, index=variables)\n",
    "    for c in df.columns:\n",
    "        for r in df.index:\n",
    "            test_result = grangercausalitytests(data[[r, c]], maxlag=maxlag, verbose=False)\n",
    "            p_values = [round(test_result[i+1][0][test][1],4) for i in range(maxlag)]\n",
    "            if verbose: print(f'Y = {r}, X = {c}, P Values = {p_values}')\n",
    "            min_p_value = np.min(p_values)\n",
    "            df.loc[r, c] = min_p_value\n",
    "    df.columns = [var + '_x' for var in variables]\n",
    "    df.index = [var + '_y' for var in variables]\n",
    "    return df\n",
    "\n",
    "o = grangers_causation_matrix(train, variables = train.columns)\n",
    "print(o)\n",
    "\n",
    "o = grangers_causation_matrix(df_diff_train, variables = df_diff_train.columns)"
   ]
  },
  {
   "cell_type": "markdown",
   "id": "d9247885",
   "metadata": {},
   "source": [
    "From Scholarpedia: Granger causality is a statistical concept of causality that is based on prediction. According to Granger causality, if a signal X1 \"Granger-causes\" (or \"G-causes\") a signal X2, then past values of X1 should contain information that helps predict X2 above and beyond the information contained in past values of X2 alone.\n",
    "\n",
    "The p-value between VWAP and Prev_Close is 0. Thus, it is not true that VWAP does not depend on Prev_Close and it is not true that Prev_Close does not depend on VWAP."
   ]
  },
  {
   "cell_type": "code",
   "execution_count": 20,
   "id": "2ffd0320",
   "metadata": {},
   "outputs": [],
   "source": [
    "from statsmodels.tsa.stattools import acf\n",
    "import numpy as np"
   ]
  },
  {
   "cell_type": "code",
   "execution_count": 22,
   "id": "af106f7f",
   "metadata": {},
   "outputs": [
    {
     "name": "stdout",
     "output_type": "stream",
     "text": [
      "Forecast Accuracy of: VWAP-Actual\n",
      "mape :  1.1466\n",
      "me :  -0.0014\n",
      "mae :  0.0048\n",
      "mpe :  -1.0946\n",
      "rmse :  0.006\n",
      "corr :  -0.3931\n",
      "minmax :  2.6305\n"
     ]
    },
    {
     "name": "stderr",
     "output_type": "stream",
     "text": [
      "<ipython-input-22-0c3a2c70e4a8>:12: FutureWarning: Support for multi-dimensional indexing (e.g. `obj[:, None]`) is deprecated and will be removed in a future version.  Convert to a numpy array before indexing instead.\n",
      "  actual[:,None]]), axis=1)\n",
      "<ipython-input-22-0c3a2c70e4a8>:14: FutureWarning: Support for multi-dimensional indexing (e.g. `obj[:, None]`) is deprecated and will be removed in a future version.  Convert to a numpy array before indexing instead.\n",
      "  actual[:,None]]), axis=1)\n"
     ]
    }
   ],
   "source": [
    "# actual = total_diff[\"VWAP-Actual\"]\n",
    "# forecast = total_diff[\"VWAP-Forecasted\"]\n",
    "\n",
    "def forecast_accuracy(forecast, actual):\n",
    "    mape = np.mean(np.abs(forecast - actual)/np.abs(actual))  # MAPE\n",
    "    me = np.mean(forecast - actual)             # ME\n",
    "    mae = np.mean(np.abs(forecast - actual))    # MAE\n",
    "    mpe = np.mean((forecast - actual)/actual)   # MPE\n",
    "    rmse = np.mean((forecast - actual)**2)**.5  # RMSE\n",
    "    corr = np.corrcoef(forecast, actual)[0,1]   # corr\n",
    "    mins = np.amin(np.hstack([forecast[:,None], \n",
    "                              actual[:,None]]), axis=1)\n",
    "    maxs = np.amax(np.hstack([forecast[:,None], \n",
    "                              actual[:,None]]), axis=1)\n",
    "    minmax = 1 - np.mean(mins/maxs)             # minmax\n",
    "    return({'mape':mape, 'me':me, 'mae': mae, \n",
    "            'mpe': mpe, 'rmse':rmse, 'corr':corr, 'minmax':minmax})\n",
    "\n",
    "# print('Forecast Accuracy of: rgnp')\n",
    "# accuracy_prod = forecast_accuracy(df_results['rgnp_forecast'].values, df_test['rgnp'])\n",
    "\n",
    "print('Forecast Accuracy of: VWAP-Actual')\n",
    "accuracy_prod = forecast_accuracy(total_diff[\"VWAP-Forecasted\"].values, total_diff[\"VWAP-Actual\"])\n",
    "\n",
    "for k, v in accuracy_prod.items():\n",
    "    # print(adjust(k), ': ', round(v,4))\n",
    "    print(k, ': ', round(v,4))"
   ]
  },
  {
   "cell_type": "code",
   "execution_count": null,
   "id": "30586c58",
   "metadata": {},
   "outputs": [],
   "source": []
  }
 ],
 "metadata": {
  "kernelspec": {
   "display_name": "Python 3",
   "language": "python",
   "name": "python3"
  },
  "language_info": {
   "codemirror_mode": {
    "name": "ipython",
    "version": 3
   },
   "file_extension": ".py",
   "mimetype": "text/x-python",
   "name": "python",
   "nbconvert_exporter": "python",
   "pygments_lexer": "ipython3",
   "version": "3.8.6"
  }
 },
 "nbformat": 4,
 "nbformat_minor": 5
}
