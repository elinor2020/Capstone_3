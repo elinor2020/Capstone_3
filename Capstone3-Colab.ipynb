{
  "nbformat": 4,
  "nbformat_minor": 0,
  "metadata": {
    "colab": {
      "name": "Capstone3.ipynb",
      "provenance": [],
      "collapsed_sections": []
    },
    "kernelspec": {
      "name": "python3",
      "display_name": "Python 3"
    },
    "language_info": {
      "name": "python"
    }
  },
  "cells": [
    {
      "cell_type": "code",
      "metadata": {
        "colab": {
          "resources": {
            "http://localhost:8080/nbextensions/google.colab/files.js": {
              "data": "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",
              "ok": true,
              "headers": [
                [
                  "content-type",
                  "application/javascript"
                ]
              ],
              "status": 200,
              "status_text": ""
            }
          },
          "base_uri": "https://localhost:8080/",
          "height": 89
        },
        "id": "Avp68EWySYkT",
        "outputId": "b6ec05a1-d900-47c4-f0a4-ad4e7d1845d3"
      },
      "source": [
        "from google.colab import files\n",
        "\n",
        "uploaded3 = files.upload()\n",
        "\n",
        "for fn in uploaded3.keys():\n",
        "  print('User uploaded file \"{name}\" with length {length} bytes'.format(\n",
        "      name=fn, length=len(uploaded3[fn])))"
      ],
      "execution_count": null,
      "outputs": [
        {
          "output_type": "display_data",
          "data": {
            "text/html": [
              "\n",
              "     <input type=\"file\" id=\"files-5541c67f-b656-426a-b2bd-93f720d2011e\" name=\"files[]\" multiple disabled\n",
              "        style=\"border:none\" />\n",
              "     <output id=\"result-5541c67f-b656-426a-b2bd-93f720d2011e\">\n",
              "      Upload widget is only available when the cell has been executed in the\n",
              "      current browser session. Please rerun this cell to enable.\n",
              "      </output>\n",
              "      <script src=\"/nbextensions/google.colab/files.js\"></script> "
            ],
            "text/plain": [
              "<IPython.core.display.HTML object>"
            ]
          },
          "metadata": {
            "tags": []
          }
        },
        {
          "output_type": "stream",
          "text": [
            "Saving stock_market.csv to stock_market (2).csv\n",
            "User uploaded file \"stock_market.csv\" with length 588217 bytes\n"
          ],
          "name": "stdout"
        }
      ]
    },
    {
      "cell_type": "code",
      "metadata": {
        "colab": {
          "base_uri": "https://localhost:8080/"
        },
        "id": "IbBRqr4YTAoK",
        "outputId": "418e48f5-fa3d-4c0c-ee58-8b6b36e21bd5"
      },
      "source": [
        "import pandas as pd\n",
        "bpcl = pd.read_csv('stock_market.csv')\n",
        "print(bpcl.head(3))"
      ],
      "execution_count": null,
      "outputs": [
        {
          "output_type": "stream",
          "text": [
            "         Time  Prev Close    Open  ...  Deliverable Volume  %Deliverble      Time.1\n",
            "0  2000-01-03      381.20  405.00  ...            443175.0      0.44345  2000-01-03\n",
            "1  2000-01-04      399.25  397.75  ...            443175.0      0.44345  2000-01-04\n",
            "2  2000-01-05      370.50  350.00  ...            443175.0      0.44345  2000-01-05\n",
            "\n",
            "[3 rows x 13 columns]\n"
          ],
          "name": "stdout"
        }
      ]
    },
    {
      "cell_type": "code",
      "metadata": {
        "colab": {
          "base_uri": "https://localhost:8080/"
        },
        "id": "0nnTH9M-TYMI",
        "outputId": "bd5f621f-189f-4933-9470-d6f086078b79"
      },
      "source": [
        "bpcl.index = bpcl['Time']\n",
        "print(bpcl.head(3))\n",
        "data = bpcl.drop(['Time.1'], axis = 1)\n",
        "bpcl = data.drop(['Time'], axis = 1)\n",
        "print(bpcl.head(3))"
      ],
      "execution_count": null,
      "outputs": [
        {
          "output_type": "stream",
          "text": [
            "                  Time  Prev Close  ...  %Deliverble      Time.1\n",
            "Time                                ...                         \n",
            "2000-01-03  2000-01-03      381.20  ...      0.44345  2000-01-03\n",
            "2000-01-04  2000-01-04      399.25  ...      0.44345  2000-01-04\n",
            "2000-01-05  2000-01-05      370.50  ...      0.44345  2000-01-05\n",
            "\n",
            "[3 rows x 13 columns]\n",
            "            Prev Close    Open  ...  Deliverable Volume  %Deliverble\n",
            "Time                            ...                                 \n",
            "2000-01-03      381.20  405.00  ...            443175.0      0.44345\n",
            "2000-01-04      399.25  397.75  ...            443175.0      0.44345\n",
            "2000-01-05      370.50  350.00  ...            443175.0      0.44345\n",
            "\n",
            "[3 rows x 11 columns]\n"
          ],
          "name": "stdout"
        }
      ]
    },
    {
      "cell_type": "code",
      "metadata": {
        "id": "l4-ZbE47hfYW",
        "colab": {
          "base_uri": "https://localhost:8080/",
          "height": 173
        },
        "outputId": "4ef02e6b-856a-48ae-c520-fbef3b3e9ae7"
      },
      "source": [
        "from sklearn.preprocessing import MinMaxScaler\n",
        "from sklearn.metrics import mean_absolute_error\n",
        "from tensorflow.keras import layers\n",
        "from keras.models import Sequential\n",
        "from keras.layers import Dense\n",
        "from keras.layers import LSTM\n",
        "from keras.layers import RNN\n",
        "from keras.layers import Dropout\n",
        "from keras.layers import *\n",
        "from keras.callbacks import EarlyStopping\n",
        "from math import sqrt\n",
        "from sklearn.model_selection import train_test_split\n",
        "import tensorflow as tf\n",
        "from tensorflow import keras\n",
        "\n",
        "bpcl.head(3)"
      ],
      "execution_count": null,
      "outputs": [
        {
          "output_type": "execute_result",
          "data": {
            "text/html": [
              "<div>\n",
              "<style scoped>\n",
              "    .dataframe tbody tr th:only-of-type {\n",
              "        vertical-align: middle;\n",
              "    }\n",
              "\n",
              "    .dataframe tbody tr th {\n",
              "        vertical-align: top;\n",
              "    }\n",
              "\n",
              "    .dataframe thead th {\n",
              "        text-align: right;\n",
              "    }\n",
              "</style>\n",
              "<table border=\"1\" class=\"dataframe\">\n",
              "  <thead>\n",
              "    <tr style=\"text-align: right;\">\n",
              "      <th></th>\n",
              "      <th>Prev Close</th>\n",
              "      <th>Open</th>\n",
              "      <th>High</th>\n",
              "      <th>Low</th>\n",
              "      <th>Last</th>\n",
              "      <th>Close</th>\n",
              "      <th>VWAP</th>\n",
              "      <th>Volume</th>\n",
              "      <th>Turnover</th>\n",
              "      <th>Deliverable Volume</th>\n",
              "      <th>%Deliverble</th>\n",
              "    </tr>\n",
              "    <tr>\n",
              "      <th>Time</th>\n",
              "      <th></th>\n",
              "      <th></th>\n",
              "      <th></th>\n",
              "      <th></th>\n",
              "      <th></th>\n",
              "      <th></th>\n",
              "      <th></th>\n",
              "      <th></th>\n",
              "      <th></th>\n",
              "      <th></th>\n",
              "      <th></th>\n",
              "    </tr>\n",
              "  </thead>\n",
              "  <tbody>\n",
              "    <tr>\n",
              "      <th>2000-01-03</th>\n",
              "      <td>381.20</td>\n",
              "      <td>405.00</td>\n",
              "      <td>407.00</td>\n",
              "      <td>393.05</td>\n",
              "      <td>397.75</td>\n",
              "      <td>399.25</td>\n",
              "      <td>399.32</td>\n",
              "      <td>8720</td>\n",
              "      <td>3.482029e+11</td>\n",
              "      <td>443175.0</td>\n",
              "      <td>0.44345</td>\n",
              "    </tr>\n",
              "    <tr>\n",
              "      <th>2000-01-04</th>\n",
              "      <td>399.25</td>\n",
              "      <td>397.75</td>\n",
              "      <td>397.75</td>\n",
              "      <td>367.40</td>\n",
              "      <td>377.45</td>\n",
              "      <td>370.50</td>\n",
              "      <td>375.71</td>\n",
              "      <td>22820</td>\n",
              "      <td>8.573699e+11</td>\n",
              "      <td>443175.0</td>\n",
              "      <td>0.44345</td>\n",
              "    </tr>\n",
              "    <tr>\n",
              "      <th>2000-01-05</th>\n",
              "      <td>370.50</td>\n",
              "      <td>350.00</td>\n",
              "      <td>385.00</td>\n",
              "      <td>350.00</td>\n",
              "      <td>360.10</td>\n",
              "      <td>359.95</td>\n",
              "      <td>359.96</td>\n",
              "      <td>152538</td>\n",
              "      <td>5.490785e+12</td>\n",
              "      <td>443175.0</td>\n",
              "      <td>0.44345</td>\n",
              "    </tr>\n",
              "  </tbody>\n",
              "</table>\n",
              "</div>"
            ],
            "text/plain": [
              "            Prev Close    Open  ...  Deliverable Volume  %Deliverble\n",
              "Time                            ...                                 \n",
              "2000-01-03      381.20  405.00  ...            443175.0      0.44345\n",
              "2000-01-04      399.25  397.75  ...            443175.0      0.44345\n",
              "2000-01-05      370.50  350.00  ...            443175.0      0.44345\n",
              "\n",
              "[3 rows x 11 columns]"
            ]
          },
          "metadata": {
            "tags": []
          },
          "execution_count": 13
        }
      ]
    },
    {
      "cell_type": "code",
      "metadata": {
        "colab": {
          "base_uri": "https://localhost:8080/",
          "height": 142
        },
        "id": "Qs4ooLf9Ulqh",
        "outputId": "48fcfae1-1ca3-4b33-c57c-37b6cde75e98"
      },
      "source": [
        "bpcl=bpcl.reset_index()\n",
        "bpcl.head(3)"
      ],
      "execution_count": null,
      "outputs": [
        {
          "output_type": "execute_result",
          "data": {
            "text/html": [
              "<div>\n",
              "<style scoped>\n",
              "    .dataframe tbody tr th:only-of-type {\n",
              "        vertical-align: middle;\n",
              "    }\n",
              "\n",
              "    .dataframe tbody tr th {\n",
              "        vertical-align: top;\n",
              "    }\n",
              "\n",
              "    .dataframe thead th {\n",
              "        text-align: right;\n",
              "    }\n",
              "</style>\n",
              "<table border=\"1\" class=\"dataframe\">\n",
              "  <thead>\n",
              "    <tr style=\"text-align: right;\">\n",
              "      <th></th>\n",
              "      <th>index</th>\n",
              "      <th>Time</th>\n",
              "      <th>Prev Close</th>\n",
              "      <th>Open</th>\n",
              "      <th>High</th>\n",
              "      <th>Low</th>\n",
              "      <th>Last</th>\n",
              "      <th>Close</th>\n",
              "      <th>VWAP</th>\n",
              "      <th>Volume</th>\n",
              "      <th>Turnover</th>\n",
              "      <th>Deliverable Volume</th>\n",
              "      <th>%Deliverble</th>\n",
              "    </tr>\n",
              "  </thead>\n",
              "  <tbody>\n",
              "    <tr>\n",
              "      <th>0</th>\n",
              "      <td>0</td>\n",
              "      <td>2000-01-03</td>\n",
              "      <td>381.20</td>\n",
              "      <td>405.00</td>\n",
              "      <td>407.00</td>\n",
              "      <td>393.05</td>\n",
              "      <td>397.75</td>\n",
              "      <td>399.25</td>\n",
              "      <td>399.32</td>\n",
              "      <td>8720</td>\n",
              "      <td>3.482029e+11</td>\n",
              "      <td>443175.0</td>\n",
              "      <td>0.44345</td>\n",
              "    </tr>\n",
              "    <tr>\n",
              "      <th>1</th>\n",
              "      <td>1</td>\n",
              "      <td>2000-01-04</td>\n",
              "      <td>399.25</td>\n",
              "      <td>397.75</td>\n",
              "      <td>397.75</td>\n",
              "      <td>367.40</td>\n",
              "      <td>377.45</td>\n",
              "      <td>370.50</td>\n",
              "      <td>375.71</td>\n",
              "      <td>22820</td>\n",
              "      <td>8.573699e+11</td>\n",
              "      <td>443175.0</td>\n",
              "      <td>0.44345</td>\n",
              "    </tr>\n",
              "    <tr>\n",
              "      <th>2</th>\n",
              "      <td>2</td>\n",
              "      <td>2000-01-05</td>\n",
              "      <td>370.50</td>\n",
              "      <td>350.00</td>\n",
              "      <td>385.00</td>\n",
              "      <td>350.00</td>\n",
              "      <td>360.10</td>\n",
              "      <td>359.95</td>\n",
              "      <td>359.96</td>\n",
              "      <td>152538</td>\n",
              "      <td>5.490785e+12</td>\n",
              "      <td>443175.0</td>\n",
              "      <td>0.44345</td>\n",
              "    </tr>\n",
              "  </tbody>\n",
              "</table>\n",
              "</div>"
            ],
            "text/plain": [
              "   index        Time  Prev Close  ...      Turnover  Deliverable Volume  %Deliverble\n",
              "0      0  2000-01-03      381.20  ...  3.482029e+11            443175.0      0.44345\n",
              "1      1  2000-01-04      399.25  ...  8.573699e+11            443175.0      0.44345\n",
              "2      2  2000-01-05      370.50  ...  5.490785e+12            443175.0      0.44345\n",
              "\n",
              "[3 rows x 13 columns]"
            ]
          },
          "metadata": {
            "tags": []
          },
          "execution_count": 15
        }
      ]
    },
    {
      "cell_type": "code",
      "metadata": {
        "id": "8-z3CStnRVNk"
      },
      "source": [
        "import numpy as np\n",
        "lag_features = [\"High\", \"Low\", \"Volume\", \"Turnover\",\"Close\"]\n",
        "window1 = 3\n",
        "window2 = 7\n",
        "window3 = 30\n",
        "\n",
        "df_rolled_3d = bpcl[lag_features].rolling(window=window1, min_periods=0)\n",
        "df_rolled_7d = bpcl[lag_features].rolling(window=window2, min_periods=0)\n",
        "df_rolled_30d = bpcl[lag_features].rolling(window=window3, min_periods=0)\n",
        "\n",
        "df_mean_3d = df_rolled_3d.mean().shift(1).reset_index().astype(np.float32)\n",
        "df_mean_7d = df_rolled_7d.mean().shift(1).reset_index().astype(np.float32)\n",
        "df_mean_30d = df_rolled_30d.mean().shift(1).reset_index().astype(np.float32)\n",
        "\n",
        "df_std_3d = df_rolled_3d.std().shift(1).reset_index().astype(np.float32)\n",
        "df_std_7d = df_rolled_7d.std().shift(1).reset_index().astype(np.float32)\n",
        "df_std_30d = df_rolled_30d.std().shift(1).reset_index().astype(np.float32)\n",
        "\n",
        "for feature in lag_features:\n",
        "    bpcl[f\"{feature}_mean_lag{window1}\"] = df_mean_3d[feature]\n",
        "    bpcl[f\"{feature}_mean_lag{window2}\"] = df_mean_7d[feature]\n",
        "    bpcl[f\"{feature}_mean_lag{window3}\"] = df_mean_30d[feature]\n",
        "    \n",
        "    bpcl[f\"{feature}_std_lag{window1}\"] = df_std_3d[feature]\n",
        "    bpcl[f\"{feature}_std_lag{window2}\"] = df_std_7d[feature]\n",
        "    bpcl[f\"{feature}_std_lag{window3}\"] = df_std_30d[feature]\n",
        "\n",
        "bpcl.fillna(bpcl.mean(), inplace=True)\n",
        "\n",
        "\n",
        "bpcl.set_index(\"Time\", drop=False, inplace=True)"
      ],
      "execution_count": null,
      "outputs": []
    },
    {
      "cell_type": "code",
      "metadata": {
        "colab": {
          "base_uri": "https://localhost:8080/",
          "height": 261
        },
        "id": "SzEEZxIDUiES",
        "outputId": "f098fb69-4c5e-4ce6-cd78-b0d2009c964b"
      },
      "source": [
        "bpcl.Time = pd.to_datetime(bpcl.Time, format=\"%Y-%m-%d\")\n",
        "bpcl[\"month\"] = bpcl.Time.dt.month\n",
        "bpcl[\"week\"] = bpcl.Time.dt.isocalendar().week\n",
        "bpcl[\"day\"] = bpcl.Time.dt.day\n",
        "bpcl[\"day_of_week\"] = bpcl.Time.dt.dayofweek\n",
        "bpcl.head(3)"
      ],
      "execution_count": null,
      "outputs": [
        {
          "output_type": "execute_result",
          "data": {
            "text/html": [
              "<div>\n",
              "<style scoped>\n",
              "    .dataframe tbody tr th:only-of-type {\n",
              "        vertical-align: middle;\n",
              "    }\n",
              "\n",
              "    .dataframe tbody tr th {\n",
              "        vertical-align: top;\n",
              "    }\n",
              "\n",
              "    .dataframe thead th {\n",
              "        text-align: right;\n",
              "    }\n",
              "</style>\n",
              "<table border=\"1\" class=\"dataframe\">\n",
              "  <thead>\n",
              "    <tr style=\"text-align: right;\">\n",
              "      <th></th>\n",
              "      <th>index</th>\n",
              "      <th>Time</th>\n",
              "      <th>Prev Close</th>\n",
              "      <th>Open</th>\n",
              "      <th>High</th>\n",
              "      <th>Low</th>\n",
              "      <th>Last</th>\n",
              "      <th>Close</th>\n",
              "      <th>VWAP</th>\n",
              "      <th>Volume</th>\n",
              "      <th>Turnover</th>\n",
              "      <th>Deliverable Volume</th>\n",
              "      <th>%Deliverble</th>\n",
              "      <th>High_mean_lag3</th>\n",
              "      <th>High_mean_lag7</th>\n",
              "      <th>High_mean_lag30</th>\n",
              "      <th>High_std_lag3</th>\n",
              "      <th>High_std_lag7</th>\n",
              "      <th>High_std_lag30</th>\n",
              "      <th>Low_mean_lag3</th>\n",
              "      <th>Low_mean_lag7</th>\n",
              "      <th>Low_mean_lag30</th>\n",
              "      <th>Low_std_lag3</th>\n",
              "      <th>Low_std_lag7</th>\n",
              "      <th>Low_std_lag30</th>\n",
              "      <th>Volume_mean_lag3</th>\n",
              "      <th>Volume_mean_lag7</th>\n",
              "      <th>Volume_mean_lag30</th>\n",
              "      <th>Volume_std_lag3</th>\n",
              "      <th>Volume_std_lag7</th>\n",
              "      <th>Volume_std_lag30</th>\n",
              "      <th>Turnover_mean_lag3</th>\n",
              "      <th>Turnover_mean_lag7</th>\n",
              "      <th>Turnover_mean_lag30</th>\n",
              "      <th>Turnover_std_lag3</th>\n",
              "      <th>Turnover_std_lag7</th>\n",
              "      <th>Turnover_std_lag30</th>\n",
              "      <th>Close_mean_lag3</th>\n",
              "      <th>Close_mean_lag7</th>\n",
              "      <th>Close_mean_lag30</th>\n",
              "      <th>Close_std_lag3</th>\n",
              "      <th>Close_std_lag7</th>\n",
              "      <th>Close_std_lag30</th>\n",
              "      <th>month</th>\n",
              "      <th>week</th>\n",
              "      <th>day</th>\n",
              "      <th>day_of_week</th>\n",
              "    </tr>\n",
              "    <tr>\n",
              "      <th>Time</th>\n",
              "      <th></th>\n",
              "      <th></th>\n",
              "      <th></th>\n",
              "      <th></th>\n",
              "      <th></th>\n",
              "      <th></th>\n",
              "      <th></th>\n",
              "      <th></th>\n",
              "      <th></th>\n",
              "      <th></th>\n",
              "      <th></th>\n",
              "      <th></th>\n",
              "      <th></th>\n",
              "      <th></th>\n",
              "      <th></th>\n",
              "      <th></th>\n",
              "      <th></th>\n",
              "      <th></th>\n",
              "      <th></th>\n",
              "      <th></th>\n",
              "      <th></th>\n",
              "      <th></th>\n",
              "      <th></th>\n",
              "      <th></th>\n",
              "      <th></th>\n",
              "      <th></th>\n",
              "      <th></th>\n",
              "      <th></th>\n",
              "      <th></th>\n",
              "      <th></th>\n",
              "      <th></th>\n",
              "      <th></th>\n",
              "      <th></th>\n",
              "      <th></th>\n",
              "      <th></th>\n",
              "      <th></th>\n",
              "      <th></th>\n",
              "      <th></th>\n",
              "      <th></th>\n",
              "      <th></th>\n",
              "      <th></th>\n",
              "      <th></th>\n",
              "      <th></th>\n",
              "      <th></th>\n",
              "      <th></th>\n",
              "      <th></th>\n",
              "      <th></th>\n",
              "    </tr>\n",
              "  </thead>\n",
              "  <tbody>\n",
              "    <tr>\n",
              "      <th>2000-01-03</th>\n",
              "      <td>0</td>\n",
              "      <td>2000-01-03</td>\n",
              "      <td>381.20</td>\n",
              "      <td>405.00</td>\n",
              "      <td>407.00</td>\n",
              "      <td>393.05</td>\n",
              "      <td>397.75</td>\n",
              "      <td>399.25</td>\n",
              "      <td>399.32</td>\n",
              "      <td>8720</td>\n",
              "      <td>3.482029e+11</td>\n",
              "      <td>443175.0</td>\n",
              "      <td>0.44345</td>\n",
              "      <td>452.935638</td>\n",
              "      <td>452.924652</td>\n",
              "      <td>452.844543</td>\n",
              "      <td>7.142901</td>\n",
              "      <td>11.333698</td>\n",
              "      <td>23.956656</td>\n",
              "      <td>436.628662</td>\n",
              "      <td>436.612732</td>\n",
              "      <td>436.514801</td>\n",
              "      <td>6.871397</td>\n",
              "      <td>10.917168</td>\n",
              "      <td>23.236280</td>\n",
              "      <td>2089415.125</td>\n",
              "      <td>2085886.125</td>\n",
              "      <td>2069983.875</td>\n",
              "      <td>842471.312500</td>\n",
              "      <td>1.040004e+06</td>\n",
              "      <td>1.366095e+06</td>\n",
              "      <td>9.305887e+13</td>\n",
              "      <td>9.291037e+13</td>\n",
              "      <td>9.224002e+13</td>\n",
              "      <td>3.750171e+13</td>\n",
              "      <td>4.640861e+13</td>\n",
              "      <td>6.119838e+13</td>\n",
              "      <td>444.377808</td>\n",
              "      <td>444.362946</td>\n",
              "      <td>444.269897</td>\n",
              "      <td>7.224701</td>\n",
              "      <td>11.149131</td>\n",
              "      <td>23.483959</td>\n",
              "      <td>1</td>\n",
              "      <td>1</td>\n",
              "      <td>3</td>\n",
              "      <td>0</td>\n",
              "    </tr>\n",
              "    <tr>\n",
              "      <th>2000-01-04</th>\n",
              "      <td>1</td>\n",
              "      <td>2000-01-04</td>\n",
              "      <td>399.25</td>\n",
              "      <td>397.75</td>\n",
              "      <td>397.75</td>\n",
              "      <td>367.40</td>\n",
              "      <td>377.45</td>\n",
              "      <td>370.50</td>\n",
              "      <td>375.71</td>\n",
              "      <td>22820</td>\n",
              "      <td>8.573699e+11</td>\n",
              "      <td>443175.0</td>\n",
              "      <td>0.44345</td>\n",
              "      <td>407.000000</td>\n",
              "      <td>407.000000</td>\n",
              "      <td>407.000000</td>\n",
              "      <td>7.142901</td>\n",
              "      <td>11.333698</td>\n",
              "      <td>23.956656</td>\n",
              "      <td>393.049988</td>\n",
              "      <td>393.049988</td>\n",
              "      <td>393.049988</td>\n",
              "      <td>6.871397</td>\n",
              "      <td>10.917168</td>\n",
              "      <td>23.236280</td>\n",
              "      <td>8720.000</td>\n",
              "      <td>8720.000</td>\n",
              "      <td>8720.000</td>\n",
              "      <td>842471.312500</td>\n",
              "      <td>1.040004e+06</td>\n",
              "      <td>1.366095e+06</td>\n",
              "      <td>3.482029e+11</td>\n",
              "      <td>3.482029e+11</td>\n",
              "      <td>3.482029e+11</td>\n",
              "      <td>3.750171e+13</td>\n",
              "      <td>4.640861e+13</td>\n",
              "      <td>6.119838e+13</td>\n",
              "      <td>399.250000</td>\n",
              "      <td>399.250000</td>\n",
              "      <td>399.250000</td>\n",
              "      <td>7.224701</td>\n",
              "      <td>11.149131</td>\n",
              "      <td>23.483959</td>\n",
              "      <td>1</td>\n",
              "      <td>1</td>\n",
              "      <td>4</td>\n",
              "      <td>1</td>\n",
              "    </tr>\n",
              "    <tr>\n",
              "      <th>2000-01-05</th>\n",
              "      <td>2</td>\n",
              "      <td>2000-01-05</td>\n",
              "      <td>370.50</td>\n",
              "      <td>350.00</td>\n",
              "      <td>385.00</td>\n",
              "      <td>350.00</td>\n",
              "      <td>360.10</td>\n",
              "      <td>359.95</td>\n",
              "      <td>359.96</td>\n",
              "      <td>152538</td>\n",
              "      <td>5.490785e+12</td>\n",
              "      <td>443175.0</td>\n",
              "      <td>0.44345</td>\n",
              "      <td>402.375000</td>\n",
              "      <td>402.375000</td>\n",
              "      <td>402.375000</td>\n",
              "      <td>6.540738</td>\n",
              "      <td>6.540738</td>\n",
              "      <td>6.540738</td>\n",
              "      <td>380.225006</td>\n",
              "      <td>380.225006</td>\n",
              "      <td>380.225006</td>\n",
              "      <td>18.137289</td>\n",
              "      <td>18.137289</td>\n",
              "      <td>18.137289</td>\n",
              "      <td>15770.000</td>\n",
              "      <td>15770.000</td>\n",
              "      <td>15770.000</td>\n",
              "      <td>9970.206055</td>\n",
              "      <td>9.970206e+03</td>\n",
              "      <td>9.970206e+03</td>\n",
              "      <td>6.027864e+11</td>\n",
              "      <td>6.027864e+11</td>\n",
              "      <td>6.027864e+11</td>\n",
              "      <td>3.600355e+11</td>\n",
              "      <td>3.600355e+11</td>\n",
              "      <td>3.600355e+11</td>\n",
              "      <td>384.875000</td>\n",
              "      <td>384.875000</td>\n",
              "      <td>384.875000</td>\n",
              "      <td>20.329321</td>\n",
              "      <td>20.329321</td>\n",
              "      <td>20.329321</td>\n",
              "      <td>1</td>\n",
              "      <td>1</td>\n",
              "      <td>5</td>\n",
              "      <td>2</td>\n",
              "    </tr>\n",
              "  </tbody>\n",
              "</table>\n",
              "</div>"
            ],
            "text/plain": [
              "            index       Time  Prev Close    Open  ...  month  week  day  day_of_week\n",
              "Time                                              ...                               \n",
              "2000-01-03      0 2000-01-03      381.20  405.00  ...      1     1    3            0\n",
              "2000-01-04      1 2000-01-04      399.25  397.75  ...      1     1    4            1\n",
              "2000-01-05      2 2000-01-05      370.50  350.00  ...      1     1    5            2\n",
              "\n",
              "[3 rows x 47 columns]"
            ]
          },
          "metadata": {
            "tags": []
          },
          "execution_count": 22
        }
      ]
    },
    {
      "cell_type": "code",
      "metadata": {
        "id": "m1d4y1EfXErw"
      },
      "source": [
        "df_train = bpcl[bpcl.Time < \"2019\"]\n",
        "df_valid = bpcl[bpcl.Time >= \"2019\"]\n",
        "\n",
        "exogenous_features = [\"High_mean_lag3\", \"High_std_lag3\", \"Low_mean_lag3\", \"Low_std_lag3\",\n",
        "                      \"Volume_mean_lag3\", \"Volume_std_lag3\", \"Turnover_mean_lag3\",\n",
        "                      \"Turnover_std_lag3\",\"High_mean_lag7\", \"High_std_lag7\", \"Low_mean_lag7\", \"Low_std_lag7\",\n",
        "                      \"Volume_mean_lag7\", \"Volume_std_lag7\", \"Turnover_mean_lag7\",\n",
        "                      \"Turnover_std_lag7\",\"High_mean_lag30\", \"High_std_lag30\", \"Low_mean_lag30\", \"Low_std_lag30\",\n",
        "                      \"Volume_mean_lag30\", \"Volume_std_lag30\", \"Turnover_mean_lag30\",\n",
        "                      \"Close_mean_lag3\", \"Close_mean_lag7\",\"Close_mean_lag30\",\"Close_std_lag3\",\"Close_std_lag7\",\"Close_std_lag30\",\n",
        "                      \"Turnover_std_lag30\",\"month\",\"week\",\"day\",\"day_of_week\"]"
      ],
      "execution_count": null,
      "outputs": []
    },
    {
      "cell_type": "code",
      "metadata": {
        "colab": {
          "base_uri": "https://localhost:8080/"
        },
        "id": "JRLGmoTuXlnv",
        "outputId": "262193a2-3992-4e82-f370-0517129fc78b"
      },
      "source": [
        "df_valid['Time'].describe()"
      ],
      "execution_count": null,
      "outputs": [
        {
          "output_type": "stream",
          "text": [
            "/usr/local/lib/python3.7/dist-packages/ipykernel_launcher.py:1: FutureWarning: Treating datetime data as categorical rather than numeric in `.describe` is deprecated and will be removed in a future version of pandas. Specify `datetime_is_numeric=True` to silence this warning and adopt the future behavior now.\n",
            "  \"\"\"Entry point for launching an IPython kernel.\n"
          ],
          "name": "stderr"
        },
        {
          "output_type": "execute_result",
          "data": {
            "text/plain": [
              "count                     577\n",
              "unique                    577\n",
              "top       2020-04-13 00:00:00\n",
              "freq                        1\n",
              "first     2019-01-01 00:00:00\n",
              "last      2021-04-30 00:00:00\n",
              "Name: Time, dtype: object"
            ]
          },
          "metadata": {
            "tags": []
          },
          "execution_count": 25
        }
      ]
    },
    {
      "cell_type": "code",
      "metadata": {
        "id": "VYGo-nTkX51P"
      },
      "source": [
        "dataset = bpcl[exogenous_features].values\n",
        "dataset = dataset.astype('float32')\n",
        "scaler = MinMaxScaler(feature_range=(0, 1))\n",
        "dataset = scaler.fit_transform(dataset)\n",
        "train_size = int(len(dataset) * 0.80)\n",
        "test_size = len(dataset) - train_size\n",
        "train, test = dataset[0:train_size,:], dataset[train_size:len(dataset),:]\n",
        "X_train = train[:,1:]\n",
        "y_train = train[:,0]\n",
        "X_test = test[:,1:]\n",
        "y_test = test[:,0]"
      ],
      "execution_count": null,
      "outputs": []
    },
    {
      "cell_type": "code",
      "metadata": {
        "id": "8u1QJ20rYxeE"
      },
      "source": [
        "batch_size = 1\n",
        "timesteps = 1\n",
        "units = 100\n",
        "nb_epoch = 70"
      ],
      "execution_count": null,
      "outputs": []
    },
    {
      "cell_type": "code",
      "metadata": {
        "id": "tSfsltvKY1bb"
      },
      "source": [
        "X_train = X_train.reshape(X_train.shape[0],timesteps,X_train.shape[1])\n",
        "X_test = X_test.reshape(X_test.shape[0],timesteps,X_test.shape[1])"
      ],
      "execution_count": null,
      "outputs": []
    },
    {
      "cell_type": "code",
      "metadata": {
        "id": "FpwaLCFyZBCk"
      },
      "source": [
        "model = Sequential()\n",
        "model.add(LSTM(units,batch_input_shape=(batch_size, X_train.shape[1], X_train.shape[2]), stateful=True))\n",
        "model.add(Dense(1))\n",
        "model.compile(loss='mean_squared_error', optimizer='adam')\n",
        "history=model.fit(X_train, y_train,epochs=nb_epoch,batch_size=batch_size, validation_data=(X_test, y_test),callbacks=[EarlyStopping(monitor='val_loss', patience=21)],verbose=0,shuffle=False)"
      ],
      "execution_count": null,
      "outputs": []
    },
    {
      "cell_type": "code",
      "metadata": {
        "colab": {
          "base_uri": "https://localhost:8080/"
        },
        "id": "5p5CbjaweTAT",
        "outputId": "634044eb-5505-4e7d-d236-12f37778abb6"
      },
      "source": [
        "model.summary()"
      ],
      "execution_count": null,
      "outputs": [
        {
          "output_type": "stream",
          "text": [
            "Model: \"sequential\"\n",
            "_________________________________________________________________\n",
            "Layer (type)                 Output Shape              Param #   \n",
            "=================================================================\n",
            "lstm (LSTM)                  (1, 100)                  53600     \n",
            "_________________________________________________________________\n",
            "dense (Dense)                (1, 1)                    101       \n",
            "=================================================================\n",
            "Total params: 53,701\n",
            "Trainable params: 53,701\n",
            "Non-trainable params: 0\n",
            "_________________________________________________________________\n"
          ],
          "name": "stdout"
        }
      ]
    },
    {
      "cell_type": "code",
      "metadata": {
        "colab": {
          "base_uri": "https://localhost:8080/"
        },
        "id": "_nV1Gv9BgcXs",
        "outputId": "e8cf099f-3b99-44d6-bbff-df397e078722"
      },
      "source": [
        "from sklearn.metrics import mean_squared_error\n",
        "from sklearn.metrics import mean_absolute_error\n",
        "yhat = model.predict(X_test, batch_size=batch_size)\n",
        "rmse = sqrt(mean_squared_error(y_test, yhat))\n",
        "mae=mean_absolute_error(y_test, yhat)\n",
        "print('rmse:{} MAE:{}'.format(rmse,mae))"
      ],
      "execution_count": null,
      "outputs": [
        {
          "output_type": "stream",
          "text": [
            "rmse:0.05356131216696749 MAE:0.03384431079030037\n"
          ],
          "name": "stdout"
        }
      ]
    },
    {
      "cell_type": "code",
      "metadata": {
        "colab": {
          "base_uri": "https://localhost:8080/",
          "height": 295
        },
        "id": "gt5BzJKah8VC",
        "outputId": "392ccd2b-a4c3-4986-8172-768ef49e20b3"
      },
      "source": [
        "import matplotlib.pyplot as plt\n",
        "plt.figure(figsize=(8,4))\n",
        "plt.plot(history.history['loss'], label='Train Loss')\n",
        "plt.plot(history.history['val_loss'], label='Test Loss')\n",
        "plt.title('LSTM model loss')\n",
        "plt.ylabel('loss')\n",
        "plt.xlabel('epochs')\n",
        "plt.legend(loc='upper right')\n",
        "plt.show();\n"
      ],
      "execution_count": null,
      "outputs": [
        {
          "output_type": "display_data",
          "data": {
            "image/png": "[encoded data removed]",
            "text/plain": [
              "<Figure size 576x288 with 1 Axes>"
            ]
          },
          "metadata": {
            "tags": [],
            "needs_background": "light"
          }
        }
      ]
    },
    {
      "cell_type": "markdown",
      "metadata": {
        "id": "VRdsBlRxvcLu"
      },
      "source": [
        "The number of epochs is a hyperparameter of stochastic gradient descent that controls the number of complete passes through the training dataset. "
      ]
    },
    {
      "cell_type": "code",
      "metadata": {
        "colab": {
          "base_uri": "https://localhost:8080/",
          "height": 316
        },
        "id": "uG0EuZzBIBuE",
        "outputId": "2870ea6f-172f-47cd-b499-69cee0e1164c"
      },
      "source": [
        "import seaborn as sns\n",
        "plt.figure(figsize=(8,4))\n",
        "plt.plot(y_test, marker='.', label=\"Actual\")\n",
        "plt.plot(yhat, label=\"Prediction\")\n",
        "plt.tick_params(left=False, labelleft=True)\n",
        "plt.tight_layout()\n",
        "sns.despine(top=True)\n",
        "plt.subplots_adjust(left=0.07)\n",
        "plt.ylabel('VWAP', size=15)\n",
        "plt.xlabel('Points', size=15)\n",
        "plt.legend(fontsize=15)\n",
        "plt.show();"
      ],
      "execution_count": null,
      "outputs": [
        {
          "output_type": "display_data",
          "data": {
            "image/png": "[encoded data removed]",
            "text/plain": [
              "<Figure size 576x288 with 1 Axes>"
            ]
          },
          "metadata": {
            "tags": [],
            "needs_background": "light"
          }
        }
      ]
    },
    {
      "cell_type": "markdown",
      "metadata": {
        "id": "Do3EnmHYJiCd"
      },
      "source": [
        "RNN model"
      ]
    },
    {
      "cell_type": "code",
      "metadata": {
        "colab": {
          "base_uri": "https://localhost:8080/"
        },
        "id": "VXKnk6WeJups",
        "outputId": "6793ddd2-4f0e-4965-c594-a0bd68a1655e"
      },
      "source": [
        "model = Sequential()\n",
        "model.add(SimpleRNN(units,batch_input_shape=(batch_size, X_train.shape[1], X_train.shape[2]), stateful=True))\n",
        "model.add(Dense(1))\n",
        "model.compile(loss='mean_squared_error', optimizer='adam')\n",
        "history=model.fit(X_train, y_train,epochs=nb_epoch,batch_size=batch_size, validation_data=(X_test, y_test),callbacks=[EarlyStopping(monitor='val_loss', patience=21)],verbose=0,shuffle=False)\n",
        "model.summary()\n"
      ],
      "execution_count": null,
      "outputs": [
        {
          "output_type": "stream",
          "text": [
            "Model: \"sequential_1\"\n",
            "_________________________________________________________________\n",
            "Layer (type)                 Output Shape              Param #   \n",
            "=================================================================\n",
            "simple_rnn (SimpleRNN)       (1, 100)                  13400     \n",
            "_________________________________________________________________\n",
            "dense_1 (Dense)              (1, 1)                    101       \n",
            "=================================================================\n",
            "Total params: 13,501\n",
            "Trainable params: 13,501\n",
            "Non-trainable params: 0\n",
            "_________________________________________________________________\n"
          ],
          "name": "stdout"
        }
      ]
    },
    {
      "cell_type": "code",
      "metadata": {
        "colab": {
          "base_uri": "https://localhost:8080/"
        },
        "id": "hM7p7XNHLNDs",
        "outputId": "b0f0ccaf-0237-4c2e-d7f2-e7603ce10a47"
      },
      "source": [
        "yhat2 = model.predict(X_test, batch_size=batch_size)\n",
        "rmse = sqrt(mean_squared_error(y_test, yhat))\n",
        "mae=mean_absolute_error(y_test, yhat2)\n",
        "print('rmse:{} MAE:{}'.format(rmse,mae))\n"
      ],
      "execution_count": null,
      "outputs": [
        {
          "output_type": "stream",
          "text": [
            "rmse:0.05356131216696749 MAE:0.20264458656311035\n"
          ],
          "name": "stdout"
        }
      ]
    },
    {
      "cell_type": "code",
      "metadata": {
        "colab": {
          "base_uri": "https://localhost:8080/",
          "height": 295
        },
        "id": "kGEFe21XLZhV",
        "outputId": "c1de7fd8-4fac-4f9b-fc52-541260e3fcd0"
      },
      "source": [
        "plt.figure(figsize=(8,4))\n",
        "plt.plot(history.history['loss'], label='Train Loss')\n",
        "plt.plot(history.history['val_loss'], label='Test Loss')\n",
        "plt.title('RNN Model Loss')\n",
        "plt.ylabel('Loss')\n",
        "plt.xlabel('Epochs')\n",
        "plt.legend(loc='upper right')\n",
        "plt.show();\n"
      ],
      "execution_count": null,
      "outputs": [
        {
          "output_type": "display_data",
          "data": {
            "image/png": "[encoded data removed]",
            "text/plain": [
              "<Figure size 576x288 with 1 Axes>"
            ]
          },
          "metadata": {
            "tags": [],
            "needs_background": "light"
          }
        }
      ]
    },
    {
      "cell_type": "code",
      "metadata": {
        "colab": {
          "base_uri": "https://localhost:8080/",
          "height": 316
        },
        "id": "c23MZ8e8L3aA",
        "outputId": "26a773e8-07a3-475c-aeaf-50207c05d98e"
      },
      "source": [
        "plt.figure(figsize=(8,4))\n",
        "plt.plot(y_test, marker='.', label=\"Actual\")\n",
        "plt.plot(yhat2, label=\"Prediction\")\n",
        "plt.tick_params(left=False, labelleft=True)\n",
        "plt.tight_layout()\n",
        "sns.despine(top=True)\n",
        "plt.subplots_adjust(left=0.07)\n",
        "plt.ylabel('VWAP', size=15)\n",
        "plt.xlabel('Points', size=15)\n",
        "plt.legend(fontsize=15)\n",
        "plt.show();\n"
      ],
      "execution_count": null,
      "outputs": [
        {
          "output_type": "display_data",
          "data": {
            "image/png": "[encoded data removed]",
            "text/plain": [
              "<Figure size 576x288 with 1 Axes>"
            ]
          },
          "metadata": {
            "tags": [],
            "needs_background": "light"
          }
        }
      ]
    }
  ]
}